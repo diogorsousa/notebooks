{
 "cells": [
  {
   "cell_type": "code",
   "execution_count": 1,
   "source": [
    "from art import tprint\n",
    "tprint(\"Hello, World\")"
   ],
   "outputs": [
    {
     "output_type": "stream",
     "name": "stdout",
     "text": [
      " _   _        _  _            __        __              _      _ \n",
      "| | | |  ___ | || |  ___      \\ \\      / /  ___   _ __ | |  __| |\n",
      "| |_| | / _ \\| || | / _ \\      \\ \\ /\\ / /  / _ \\ | '__|| | / _` |\n",
      "|  _  ||  __/| || || (_) | _    \\ V  V /  | (_) || |   | || (_| |\n",
      "|_| |_| \\___||_||_| \\___/ ( )    \\_/\\_/    \\___/ |_|   |_| \\__,_|\n",
      "                          |/                                     \n",
      "\n"
     ]
    }
   ],
   "metadata": {}
  }
 ],
 "metadata": {
  "orig_nbformat": 4,
  "language_info": {
   "name": "python",
   "version": "3.7.3",
   "mimetype": "text/x-python",
   "codemirror_mode": {
    "name": "ipython",
    "version": 3
   },
   "pygments_lexer": "ipython3",
   "nbconvert_exporter": "python",
   "file_extension": ".py"
  },
  "kernelspec": {
   "name": "python3",
   "display_name": "Python 3.7.3 64-bit"
  },
  "interpreter": {
   "hash": "aee8b7b246df8f9039afb4144a1f6fd8d2ca17a180786b69acc140d282b71a49"
  }
 },
 "nbformat": 4,
 "nbformat_minor": 2
}