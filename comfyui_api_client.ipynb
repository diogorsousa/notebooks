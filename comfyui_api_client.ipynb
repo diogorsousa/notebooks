{
 "cells": [
  {
   "cell_type": "markdown",
   "metadata": {},
   "source": [
    "# ComfyUI API\n",
    "\n",
    "Currently, there doesn't seem to exist any good documentation for the ComfyUI API.  \n",
    "ComfyUI is Python web UI that uses Stable Diffusion XL to generate images.  \n",
    "\n",
    "Luckily, the project is open-source so we can peek inside and document it ourselves."
   ]
  },
  {
   "cell_type": "markdown",
   "metadata": {},
   "source": [
    "### List of available routes in comfyui\\ComfyUI\\server.py:\n",
    "\n",
    "GET methods:\n",
    "\n",
    "- / - Root handler\n",
    "- /ws - Websocket handler\n",
    "- /embeddings - Get embeddings\n",
    "- /extensions - Get extensions\n",
    "- /upload/image - Upload image\n",
    "- /upload/mask - Upload mask\n",
    "- /view - View image\n",
    "\n",
    "example:\n",
    "http://127.0.0.1:8188/view?filename=ComfyUI_00012_.png&preview=true\n",
    "\n",
    "- /view_metadata/{folder_name} - View metadata\n",
    "- /system_stats - Get system stats\n",
    "- /prompt - Get prompt\n",
    "- /object_info - Get object info\n",
    "- /object_info/{node_class} - Get object info for a specific node class\n",
    "- /history - Get history\n",
    "- /history/{prompt_id} - Get history for a specific prompt id\n",
    "- /queue - Get queue\n",
    "\n",
    "POST methods:\n",
    "\n",
    "- /prompt - Post prompt\n",
    "- /queue - Post queue\n",
    "- /interrupt - Post interrupt\n",
    "- /history - Post history\n",
    "\n",
    "### How to access comfyUI on the local network?\n",
    "It's super easy, modify run_nvidia_gpu.bat and add **--listen** at the end of the first line"
   ]
  },
  {
   "cell_type": "markdown",
   "metadata": {},
   "source": [
    "**GET method**"
   ]
  },
  {
   "cell_type": "code",
   "execution_count": 116,
   "metadata": {},
   "outputs": [],
   "source": [
    "import requests\n",
    "import json\n",
    "\n",
    "def get_request(endpoint):\n",
    "    url = f\"http://192.168.1.220:8188/{endpoint}\"\n",
    "    response = requests.get(url)\n",
    "    if response.text:\n",
    "        data = json.loads(response.text)\n",
    "        return data\n",
    "    else:\n",
    "        print(\"No data received\")"
   ]
  },
  {
   "cell_type": "code",
   "execution_count": 117,
   "metadata": {},
   "outputs": [
    {
     "data": {
      "text/plain": [
       "{'queue_running': [], 'queue_pending': []}"
      ]
     },
     "execution_count": 117,
     "metadata": {},
     "output_type": "execute_result"
    }
   ],
   "source": [
    "# test by using GET queue\n",
    "get_request(\"queue\")"
   ]
  },
  {
   "cell_type": "markdown",
   "metadata": {},
   "source": [
    "**POST method**"
   ]
  },
  {
   "cell_type": "code",
   "execution_count": 118,
   "metadata": {},
   "outputs": [
    {
     "name": "stdout",
     "output_type": "stream",
     "text": [
      "b013f9c3-ffdf-4be5-bc89-997e26f74e85\n"
     ]
    }
   ],
   "source": [
    "import json\n",
    "from urllib import request, parse\n",
    "import random\n",
    "\n",
    "def queue_prompt(prompt_workflow):\n",
    "    p = {\"prompt\": prompt_workflow}\n",
    "    data = json.dumps(p).encode('utf-8')\n",
    "    req =  request.Request(\"http://127.0.0.1:8188/prompt\", data=data)\n",
    "    res = request.urlopen(req)\n",
    "    return res.read().decode('utf-8')\n",
    "\n",
    "prompt_workflow = json.load(open('workflow_api.json'))\n",
    "\n",
    "# randomize seed\n",
    "prompt_workflow[\"3\"][\"inputs\"][\"seed\"] = random.randint(1,18446744073709551614) \n",
    "\n",
    "# queue the prompt, save the prompt_id\n",
    "response = queue_prompt(prompt_workflow)\n",
    "parsed_json = json.loads(response)\n",
    "prompt_id = parsed_json['prompt_id']\n",
    "\n",
    "print(prompt_id)\n"
   ]
  },
  {
   "cell_type": "code",
   "execution_count": 121,
   "metadata": {},
   "outputs": [
    {
     "name": "stdout",
     "output_type": "stream",
     "text": [
      "ComfyUI_00190_.png\n"
     ]
    }
   ],
   "source": [
    "from IPython.display import display, Markdown\n",
    "\n",
    "\n",
    "\n",
    "# get filename for my prompt\n",
    "response = get_request(\"history\")\n",
    "filename = response[prompt_id]['outputs']['9']['images'][0]['filename']\n",
    "\n",
    "display(Markdown(f\"The filename is: **{filename}**\"))\n",
    "print(filename)"
   ]
  }
 ],
 "metadata": {
  "kernelspec": {
   "display_name": "Python 3",
   "language": "python",
   "name": "python3"
  },
  "language_info": {
   "codemirror_mode": {
    "name": "ipython",
    "version": 3
   },
   "file_extension": ".py",
   "mimetype": "text/x-python",
   "name": "python",
   "nbconvert_exporter": "python",
   "pygments_lexer": "ipython3",
   "version": "3.9.6"
  }
 },
 "nbformat": 4,
 "nbformat_minor": 2
}
