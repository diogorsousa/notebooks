{
 "cells": [
  {
   "attachments": {},
   "cell_type": "markdown",
   "metadata": {},
   "source": [
    "## pyRaceRoom Jupyter notebook \n",
    "- RaceHash: a unique identifier for each race\n",
    "- StartPosition: the starting position of the player in the race\n",
    "- TrackLayoutName: the name of the layout of the track\n",
    "- CarName: the name of the player's car\n",
    "- FinishPosition: the finishing position of the player in the race\n",
    "- RatingAfter: the player's rating after the race\n",
    "- ReputationAfter: the player's reputation after the race\n",
    "- PlayersCount: the number of players in the race\n",
    "- IncidentPoints: the number of incident points the player received during the race\n",
    "- RatingChange: the change in the player's rating after the race\n",
    "- RaceFinishTime: the time it took for the player to finish the race\n",
    "- TrackId: a unique identifier for the track\n",
    "- TrackFullName: the full name of the track\n",
    "- ReputationChange: the change in the player's reputation after the race\n",
    "- LapsCount: the number of laps in the race\n",
    "- MinSectorTimesSum: the sum of the minimum sector times for all the player's valid laps\n",
    "- ValidLapsCount: the number of valid laps completed by the player\n",
    "- QualiLapsCount: the number of laps completed by the player during qualifying\n",
    "- QualiMinSectorTimesSum: the sum of the minimum sector times for all the player's valid laps during qualifying\n",
    "- QualiValidLapsCount: the number of valid laps completed by the player during qualifying\n",
    "- TrackName: the name of the track"
   ]
  },
  {
   "attachments": {},
   "cell_type": "markdown",
   "metadata": {},
   "source": [
    "Raceroom user (Steam username)"
   ]
  },
  {
   "cell_type": "code",
   "execution_count": 18,
   "metadata": {
    "tags": [
     "parameters"
    ]
   },
   "outputs": [],
   "source": [
    "username = 'diogorsousa'"
   ]
  },
  {
   "attachments": {},
   "cell_type": "markdown",
   "metadata": {},
   "source": [
    "Import career page"
   ]
  },
  {
   "cell_type": "code",
   "execution_count": 19,
   "metadata": {},
   "outputs": [],
   "source": [
    "import requests\n",
    "\n",
    "# save html\n",
    "def save_html(html, path):\n",
    "    with open(path, 'wb') as f:\n",
    "        f.write(html)\n",
    "\n",
    "# open html\n",
    "def open_html(path):\n",
    "    with open(path, 'rb') as f:\n",
    "        return f.read()\n",
    "\n",
    "url = 'https://game.raceroom.com/users/' + username + '/career'\n",
    "r = requests.get(url)\n",
    "save_html(r.content, 'career')"
   ]
  },
  {
   "cell_type": "code",
   "execution_count": null,
   "metadata": {
    "tags": []
   },
   "outputs": [],
   "source": [
    "import requests\n",
    "from bs4 import BeautifulSoup\n",
    "from lxml import etree\n",
    "import json\n",
    "import pandas as pd\n",
    "\n",
    "html = open_html('career')\n",
    "soup = BeautifulSoup(html, \"html.parser\")\n",
    "dom = etree.HTML(str(soup))\n",
    "\n",
    "# Find the div with class \"career\"\n",
    "careerPage = soup.find('div', {'class': 'careerPage'})\n",
    "\n",
    "# Extract the data-entries attribute and decode the JSON data\n",
    "data_entries = careerPage['data-entries']\n",
    "data = json.loads(data_entries)\n",
    "\n",
    "# Create a list of dictionaries containing the data for each race\n",
    "races_data = []\n",
    "for race in data:\n",
    "    race_data = {}\n",
    "    race_data['RaceHash'] = race['RaceHash']\n",
    "    race_data['StartPosition'] = race['StartPosition']\n",
    "    race_data['TrackLayoutName'] = race['TrackLayoutId']['Name']\n",
    "    race_data['CarName'] = race['Cars'][0]['Name']\n",
    "    race_data['FinishPosition'] = race['FinishPosition']\n",
    "    race_data['RatingAfter'] = race['RatingAfter']\n",
    "    race_data['ReputationAfter'] = race['ReputationAfter']\n",
    "    race_data['PlayersCount'] = race['PlayersCount']\n",
    "    race_data['IncidentPoints'] = race['IncidentPoints']\n",
    "    race_data['RatingChange'] = race['RatingChange']\n",
    "    race_data['RaceFinishTime'] = race['RaceFinishTime']\n",
    "\n",
    "    # Get more details from API\n",
    "    api_url = f'https://game.raceroom.com/multiplayer/results/{race[\"RaceHash\"]}'\n",
    "    api_response = requests.get(api_url)\n",
    "    api_data = api_response.json()\n",
    "    \n",
    "    # Extract additional data\n",
    "    race_data['TrackId'] = api_data['GetMpRaceResultResult']['TrackId']['Id']\n",
    "    race_data['TrackFullName'] = api_data['GetMpRaceResultResult']['TrackId']['Name']\n",
    "\n",
    "    my_position = -1\n",
    "\n",
    "    # Encontre a posição do seu username na lista de resultados da corrida\n",
    "    for i, result in enumerate(api_data['GetMpRaceResultResult']['RaceResult']):\n",
    "        if result['Username'] == username:\n",
    "            my_position = i \n",
    "            break\n",
    "    \n",
    "    # Get race results\n",
    "    race_results = api_data['GetMpRaceResultResult']['RaceResult']\n",
    "\n",
    "    # Get user's race result\n",
    "    if my_position >= 0 and my_position < len(race_results):\n",
    "        user_race_result = race_results[my_position]\n",
    "        race_data['ReputationChange'] = user_race_result['ReputationChange']\n",
    "\n",
    "        # Get user's lap data\n",
    "        laps_data = user_race_result['Laps']\n",
    "\n",
    "        # Count number of laps and sum of sector times\n",
    "        lap_count = 0\n",
    "        sector_times = []\n",
    "        min_sector_times_sum = float('inf')\n",
    "        valid_lap_count = 0\n",
    "\n",
    "        # Iterate over the laps to count laps, sum sector times, and find the minimum sector time sum\n",
    "        for lap in laps_data:\n",
    "            lap_count += 1\n",
    "\n",
    "            if lap['Valid'] == True:\n",
    "                valid_lap_count += 1\n",
    "                if lap['Time'] > 0 and lap['Time'] < min_sector_times_sum:\n",
    "                    min_sector_times_sum = lap['Time']\n",
    "\n",
    "        # Add lap data to race data\n",
    "        race_data['LapsCount'] = lap_count\n",
    "        race_data['MinSectorTimesSum'] = min_sector_times_sum\n",
    "        race_data['ValidLapsCount'] = valid_lap_count\n",
    "        race_data['CarName'] = user_race_result['CarClass']['Name']\n",
    "    else:\n",
    "        user_race_result = None  # ou outro valor padrão que faça sentido para o seu caso\n",
    "\n",
    "    #Get quali results\n",
    "    quali_results = api_data['GetMpRaceResultResult']['QualiResult']\n",
    "\n",
    "    # Get user's quali result\n",
    "    user_quali_result = None\n",
    "    for result in quali_results:\n",
    "        if result['Username'] == username:\n",
    "            user_quali_result = result\n",
    "            break\n",
    "\n",
    "    if user_quali_result is None:\n",
    "        raise ValueError(f\"Username {username} not found in quali results\")\n",
    "\n",
    "    # Get user's lap data\n",
    "    laps_data = user_quali_result['Laps']\n",
    "\n",
    "    # Count number of laps and sum of sector times\n",
    "    lap_count = 0\n",
    "    sector_times = []\n",
    "    sector_time_sum = 0\n",
    "    min_sector_times_sum = float('inf')\n",
    "    valid_lap_count = 0\n",
    "\n",
    "    # Iterate over the laps to count laps, sum sector times, and find the minimum sector time sum\n",
    "    for lap in laps_data:\n",
    "        lap_count += 1\n",
    "\n",
    "        if lap['Valid'] == True:\n",
    "            valid_lap_count += 1\n",
    "            if lap['Time'] > 0 and lap['Time'] < min_sector_times_sum:\n",
    "                min_sector_times_sum = lap['Time']\n",
    "\n",
    "    race_data['QualiLapsCount'] = lap_count\n",
    "    race_data['QualiMinSectorTimesSum'] = min_sector_times_sum\n",
    "    race_data['QualiValidLapsCount'] = valid_lap_count \n",
    "\n",
    "    print(race_data)\n",
    "    races_data.append(race_data)\n",
    "\n",
    "# Create a pandas DataFrame from the list of dictionaries\n",
    "df = pd.DataFrame(races_data)\n",
    "\n",
    "# Sort the DataFrame by RaceFinishTime in descending order\n",
    "df = df.sort_values('RaceFinishTime', ascending=False)\n",
    "\n",
    "# Convert timestamp to date time\n",
    "df['RaceFinishTime'] = pd.to_datetime(df['RaceFinishTime'], unit='s')\n",
    "\n",
    "# Concatenate Track name and layout name\n",
    "df['TrackName'] = df['TrackFullName'] + ' - ' + df['TrackLayoutName']\n"
   ]
  },
  {
   "cell_type": "code",
   "execution_count": 84,
   "metadata": {},
   "outputs": [],
   "source": [
    "# Save DataFrame to binary pandas file\n",
    "df.to_pickle(username + '.pkl')"
   ]
  },
  {
   "cell_type": "code",
   "execution_count": 86,
   "metadata": {},
   "outputs": [],
   "source": [
    "df = pd.read_pickle(username + '.pkl')"
   ]
  },
  {
   "attachments": {},
   "cell_type": "markdown",
   "metadata": {},
   "source": [
    "FinishPosition and mean of StartPosition"
   ]
  },
  {
   "cell_type": "code",
   "execution_count": 87,
   "metadata": {},
   "outputs": [
    {
     "name": "stdout",
     "output_type": "stream",
     "text": [
      " FinishPosition  MeanStartPosition\n",
      "              1                1.3\n",
      "              2                2.2\n",
      "              3                2.5\n",
      "              4                3.5\n",
      "              5                3.5\n",
      "              6                3.0\n",
      "              7                3.0\n",
      "              8                3.0\n",
      "              9                5.5\n",
      "             12               10.5\n",
      "             15                8.0\n",
      "             18               16.0\n",
      "             24               11.0\n"
     ]
    }
   ],
   "source": [
    "# Group the dataframe by FinishPosition and calculate the mean of StartPosition for each group\n",
    "result = df.groupby('FinishPosition')['StartPosition'].mean().round(1)\n",
    "\n",
    "# Set the column header name\n",
    "result.name = 'MeanStartPosition'\n",
    "\n",
    "# Display the result with column headers\n",
    "print(result.to_frame().reset_index().to_string(index=False))"
   ]
  },
  {
   "cell_type": "markdown",
   "metadata": {},
   "source": []
  },
  {
   "cell_type": "code",
   "execution_count": 88,
   "metadata": {},
   "outputs": [
    {
     "name": "stdout",
     "output_type": "stream",
     "text": [
      "               MeanRatingChange  MeanReputationChange\n",
      "StartPosition                                        \n",
      "1                      1.318231              0.182462\n",
      "2                      0.960353              0.064735\n",
      "3                     -0.010789             -0.050474\n",
      "4                     -0.909600             -0.140800\n",
      "5                     -1.474600             -0.015000\n",
      "7                      3.189000             -0.087500\n",
      "11                   -19.950000             -0.656000\n",
      "13                    -6.854000             -1.843000\n",
      "16                    -9.167000             -0.402000\n",
      "17                    -1.488000             -0.384000\n"
     ]
    }
   ],
   "source": [
    "grouped = df.groupby('StartPosition')[['RatingChange', 'ReputationChange']].mean()\n",
    "\n",
    "# rename the columns\n",
    "grouped = grouped.rename(columns={'RatingChange': 'MeanRatingChange', 'ReputationChange': 'MeanReputationChange'})\n",
    "\n",
    "# display the resulting dataframe\n",
    "print(grouped)"
   ]
  },
  {
   "attachments": {},
   "cell_type": "markdown",
   "metadata": {},
   "source": [
    "Car analysis"
   ]
  },
  {
   "cell_type": "code",
   "execution_count": 89,
   "metadata": {},
   "outputs": [
    {
     "name": "stdout",
     "output_type": "stream",
     "text": [
      "                             RatingChange  ReputationChange  FinishPosition  \\\n",
      "CarName                                                                       \n",
      "Tatuus F4 Cup                    0.322093          0.105187        3.520000   \n",
      "BMW M235i Racing Cup            -0.218846         -0.374154        3.461538   \n",
      "GTR 3                            3.885667          0.077667        2.666667   \n",
      "GTR 4                           -8.167667         -0.443333        6.333333   \n",
      "NSU TTS Cup                     -0.730500         -0.203500        3.000000   \n",
      "Porsche Carrera Cup Classic      0.509000         -0.711000        1.000000   \n",
      "\n",
      "                             NumRaces  \n",
      "CarName                                \n",
      "Tatuus F4 Cup                      75  \n",
      "BMW M235i Racing Cup               13  \n",
      "GTR 3                               6  \n",
      "GTR 4                               3  \n",
      "NSU TTS Cup                         2  \n",
      "Porsche Carrera Cup Classic         1  \n"
     ]
    }
   ],
   "source": [
    "# group by car and track, calculate average rating change, reputation change, and mean finish position\n",
    "result = df.groupby(['CarName']).agg({'RatingChange': 'mean', 'ReputationChange': 'mean', 'FinishPosition': 'mean', 'RaceHash': 'count'})\n",
    "\n",
    "# rename count column to 'NumRaces'\n",
    "result = result.rename(columns={'RaceHash': 'NumRaces'})\n",
    "\n",
    "# sort by number of races in descending order\n",
    "result = result.sort_values(by='NumRaces', ascending=False)\n",
    "\n",
    "# print the result\n",
    "print(result)"
   ]
  },
  {
   "attachments": {},
   "cell_type": "markdown",
   "metadata": {},
   "source": [
    "Track analysis"
   ]
  },
  {
   "cell_type": "code",
   "execution_count": 90,
   "metadata": {},
   "outputs": [
    {
     "name": "stdout",
     "output_type": "stream",
     "text": [
      "                                                Track  \\\n",
      "0                            Brands Hatch Indy - Indy   \n",
      "1                 Circuit Zandvoort 2019 - Grand Prix   \n",
      "2        Daytona International Speedway - Road Course   \n",
      "3                         Hockenheimring - Grand Prix   \n",
      "4                         Hockenheimring - Grand Prix   \n",
      "5                                  Imola - Grand Prix   \n",
      "6                             Interlagos - Grand Prix   \n",
      "7                          Monza Circuit - Grand Prix   \n",
      "8               Nürburgring - Grand Prix Fast Chicane   \n",
      "9                       Portimao Circuit - Grand Prix   \n",
      "10                      Portimao Circuit - Grand Prix   \n",
      "11       Red Bull Ring Spielberg - Grand Prix Circuit   \n",
      "12                     Red Bull Ring Spielberg - Moto   \n",
      "13                     Spa-Francorchamps - Grand Prix   \n",
      "14                        Suzuka Circuit - Grand Prix   \n",
      "15                        Suzuka Circuit - Grand Prix   \n",
      "16                       Suzuka Circuit - West Course   \n",
      "17  Watkins Glen International - Grand Prix with I...   \n",
      "18       WeatherTech Raceway Laguna Seca - Grand Prix   \n",
      "\n",
      "                            Car Quali Lap Time Race Lap Time  Number of Races  \\\n",
      "0                   NSU TTS Cup      00:56.378     00:56.390                1   \n",
      "1                 Tatuus F4 Cup      01:40.911     01:41.005                7   \n",
      "2                 Tatuus F4 Cup      01:56.121     01:55.649                8   \n",
      "3          BMW M235i Racing Cup      01:53.079     01:53.267                3   \n",
      "4                 Tatuus F4 Cup      01:44.428     01:44.574               12   \n",
      "5                         GTR 4      01:54.271     01:54.948                1   \n",
      "6                 Tatuus F4 Cup      01:35.411     01:35.565               12   \n",
      "7                         GTR 4      01:59.389     01:59.581                1   \n",
      "8          BMW M235i Racing Cup      02:10.069     02:10.085                1   \n",
      "9                   NSU TTS Cup      02:13.898     02:12.444                1   \n",
      "10                Tatuus F4 Cup      01:47.843     01:48.011                1   \n",
      "11                Tatuus F4 Cup      01:34.456     01:34.583               33   \n",
      "12                        GTR 4      01:45.049     01:44.140                1   \n",
      "13                        GTR 3      02:18.631     02:18.873                6   \n",
      "14  Porsche Carrera Cup Classic      02:23.654     02:24.351                1   \n",
      "15                Tatuus F4 Cup      02:07.717     02:07.414                1   \n",
      "16                Tatuus F4 Cup      01:19.008     01:19.295                1   \n",
      "17         BMW M235i Racing Cup      01:59.887     01:59.743                7   \n",
      "18         BMW M235i Racing Cup      01:35.831     01:35.632                2   \n",
      "\n",
      "    Total Laps  Valid Laps  Valid Laps %  \n",
      "0           16          14         87.50  \n",
      "1           63          57         90.48  \n",
      "2           67          45         67.16  \n",
      "3           24          20         83.33  \n",
      "4          141         118         83.69  \n",
      "5            8           7         87.50  \n",
      "6          123         116         94.31  \n",
      "7            8           7         87.50  \n",
      "8           10           7         70.00  \n",
      "9            7           6         85.71  \n",
      "10           9           6         66.67  \n",
      "11         332         290         87.35  \n",
      "12           8           6         75.00  \n",
      "13          46          30         65.22  \n",
      "14           7           3         42.86  \n",
      "15           8           5         62.50  \n",
      "16          12          12        100.00  \n",
      "17          56          47         83.93  \n",
      "18          20          16         80.00  \n"
     ]
    }
   ],
   "source": [
    "import numpy as np\n",
    "\n",
    "# assuming the dataframe is called 'df'\n",
    "min_times = df.groupby(['TrackName', 'CarName'])[['QualiMinSectorTimesSum', 'MinSectorTimesSum']].min()\n",
    "min_times = min_times.rename(columns={'QualiMinSectorTimesSum': 'BestQualiLap', 'MinSectorTimesSum': 'BestRaceLap'})\n",
    "\n",
    "# define function to convert milliseconds to mm:ss format\n",
    "def convert_to_mins(x):\n",
    "    if pd.isna(x):\n",
    "        return ''\n",
    "    if x == np.inf or x == -np.inf:\n",
    "        return 'N/A'\n",
    "    if abs(x) > 10**7:\n",
    "        return 'N/A'\n",
    "    mins = int(x / 60000)\n",
    "    secs = int((x / 1000) % 60)\n",
    "    millis = int(x % 1000)\n",
    "    return '{:02d}:{:02d}.{:03d}'.format(mins, secs, millis)\n",
    "\n",
    "# apply the conversion function to the columns\n",
    "min_times['BestQualiLap'] = min_times['BestQualiLap'].apply(convert_to_mins)\n",
    "min_times['BestRaceLap'] = min_times['BestRaceLap'].apply(convert_to_mins)\n",
    "\n",
    "num_races = df.groupby(['TrackName', 'CarName'])[['RaceHash']].count()\n",
    "total_laps = df.groupby(['TrackName', 'CarName'])[['LapsCount']].sum()\n",
    "valid_laps = df.groupby(['TrackName', 'CarName'])[['ValidLapsCount']].sum()\n",
    "\n",
    "result = min_times.join(num_races).join(total_laps).join(valid_laps)\n",
    "result['ValidLapsPct'] = (result['ValidLapsCount'] / result['LapsCount'] * 100).round(2)\n",
    "\n",
    "# reset the index to convert the MultiIndex to regular columns\n",
    "result = result.reset_index()\n",
    "\n",
    "# rename columns to be more descriptive\n",
    "result = result.rename(columns={'TrackName': 'Track', 'CarName': 'Car', 'BestQualiLap': 'Quali Lap Time', \n",
    "                                'BestRaceLap': 'Race Lap Time', 'RaceHash': 'Number of Races', \n",
    "                                'LapsCount': 'Total Laps', 'ValidLapsCount': 'Valid Laps',\n",
    "                                'ValidLapsPct': 'Valid Laps %'})\n",
    "\n",
    "# display the resulting dataframe\n",
    "print(result)\n",
    "result.to_csv('result.csv', index=True)"
   ]
  }
 ],
 "metadata": {
  "kernelspec": {
   "display_name": "Python 3",
   "language": "python",
   "name": "python3"
  },
  "language_info": {
   "codemirror_mode": {
    "name": "ipython",
    "version": 3
   },
   "file_extension": ".py",
   "mimetype": "text/x-python",
   "name": "python",
   "nbconvert_exporter": "python",
   "pygments_lexer": "ipython3",
   "version": "3.9.6"
  },
  "orig_nbformat": 4,
  "vscode": {
   "interpreter": {
    "hash": "a87c0c351317882431803002b6d939c70d40a3b637c07a3a3716cafdbc56a578"
   }
  }
 },
 "nbformat": 4,
 "nbformat_minor": 2
}
