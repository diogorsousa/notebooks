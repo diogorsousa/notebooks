{
 "cells": [
  {
   "cell_type": "markdown",
   "metadata": {},
   "source": [
    "## Lap Calculator\n",
    "Calculates number of laps based on race duration and lap time.\n",
    "Outputs time left on final lap."
   ]
  },
  {
   "cell_type": "markdown",
   "metadata": {},
   "source": [
    "Enter parameters:"
   ]
  },
  {
   "cell_type": "code",
   "execution_count": 59,
   "metadata": {
    "tags": []
   },
   "outputs": [],
   "source": [
    "# parameters\n",
    "race_duration = 15 # in minutes\n",
    "lap_time_minutes = 1 \n",
    "lap_time_seconds = 40"
   ]
  },
  {
   "cell_type": "code",
   "execution_count": 61,
   "metadata": {},
   "outputs": [
    {
     "name": "stdout",
     "output_type": "stream",
     "text": [
      "Total Laps:  9\n",
      "Time left on final lap:  0  min 0  sec\n"
     ]
    }
   ],
   "source": [
    "race_seconds = race_duration * 60 # convert to seconds\n",
    "lap_seconds = lap_time_minutes * 60 + lap_time_seconds # lap time in seconds\n",
    "\n",
    "# calculate time left on the clock on the final lap?\n",
    "seconds_remainder = race_seconds % lap_seconds\n",
    "\n",
    "# calculate the number of complete laps using integer division\n",
    "laps = race_seconds // lap_seconds\n",
    "\n",
    "# if there is any remaining time from the total race seconds, increment the lap count by 1\n",
    "if seconds_remainder > 0:\n",
    "    laps = laps + 1\n",
    "\n",
    "print(\"Total Laps: \",laps)\n",
    "print(\"Time left on final lap: \",seconds_remainder // 60,\" min\", seconds_remainder % 60,\" sec\")\n"
   ]
  }
 ],
 "metadata": {
  "kernelspec": {
   "display_name": "Python 3",
   "language": "python",
   "name": "python3"
  },
  "language_info": {
   "codemirror_mode": {
    "name": "ipython",
    "version": 3
   },
   "file_extension": ".py",
   "mimetype": "text/x-python",
   "name": "python",
   "nbconvert_exporter": "python",
   "pygments_lexer": "ipython3",
   "version": "3.9.6"
  }
 },
 "nbformat": 4,
 "nbformat_minor": 2
}
